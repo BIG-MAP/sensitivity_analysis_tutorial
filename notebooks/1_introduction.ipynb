{
 "cells": [
  {
   "cell_type": "markdown",
   "id": "7ecdc317-abf3-45c8-80d8-df00f30534d8",
   "metadata": {},
   "source": [
    "# Introduction\n",
    "\n",
    "These exercises demonstrate a sensitivity analysis of a battery degradation model in a step-by-step manner.\n",
    "After doing these exercises you will be able to perform a similar analysis of your own dataset and you will have some code to get you started.\n",
    "\n",
    "The exercises are provided as a series of Python notebooks (like the one you are reading now) that let you write and run code.\n",
    "Some basic understanding of Python programming and machine learning is assumed.\n",
    "\n",
    "Please note that some of the exercises require you to have completed the earlier exercises to function so you should preferably do them in the indicated order. \n",
    "The exercises marked as [optional] are not essential to the method but provide some additional useful information. \n",
    "You can skip these or revisit them later if you like.\n",
    "\n",
    "List of exercises:\n",
    "\n",
    "1. Introduction (you are here)\n",
    "1. Dataset exploration\n",
    "1. Bayesian linear regression model [optional]\n",
    "1. Gaussian process regression basics [optional]\n",
    "1. Train Gaussian process regression model\n",
    "1. Sensitivity analysis with GP regression model\n",
    "1. Interactive sensitivity analysis with GP regression model\n",
    "\n",
    "\n",
    "In each exercise we encourage you to familiarise yourself with the code and think about the results. You are also encouraged to experiment with modifying the code and changing different input values to see how they affect the output. You will likely learn much more this way than if you just run the code and read the instructions. \n",
    "\n",
    "Finally, the exercise series is setup to analyse a single output of the battery degradation model, namely the `SEI_thickness(m)`.\n",
    "If at the end you want to do some additional work, you can repeat the analysis for the `Capacity loss (%)` output. \n",
    "Interestingly, the analysis yields different results for the two outputs."
   ]
  },
  {
   "cell_type": "markdown",
   "id": "a91d41b8-1665-4887-a194-5fe651fba792",
   "metadata": {
    "tags": []
   },
   "source": [
    "## A very brief introduction to Python notebooks\n",
    "\n",
    "In case you are new to Python notebooks here is a *very* brief introduction:\n",
    "\n",
    "Notebooks (like the one you are reading now) allow you to combine executable code and rich text in a single document.\n",
    "A notebook is made up of a sequence of cells that can contain either text in markdown format (like this cell) or code like the cell below."
   ]
  },
  {
   "cell_type": "code",
   "execution_count": null,
   "id": "62633322-d5ac-423d-a33e-3b3e114eb3f7",
   "metadata": {},
   "outputs": [],
   "source": [
    "seconds_in_a_day = 24 * 60 * 60\n",
    "print(f\"There are {seconds_in_a_day} seconds in a day.\")"
   ]
  },
  {
   "cell_type": "markdown",
   "id": "beda41b5-ed1c-449f-9594-87e6ddecb173",
   "metadata": {},
   "source": [
    "To execute the code in the above cell, select it with a click and then either press the play button, or use the keyboard shortcut 'Shift/Command/Ctrl+Enter'.\n",
    "The output of the code (if any) is shown directly underneath the cell.\n",
    "To edit the code, just click the cell and start editing.\n",
    "\n",
    "Variables that you define in one cell can later be used in other cells:"
   ]
  },
  {
   "cell_type": "code",
   "execution_count": null,
   "id": "94bb7de7-7cbb-4794-b8fb-77880e0f9456",
   "metadata": {},
   "outputs": [],
   "source": [
    "print(f\"There are {seconds_in_a_day} seconds in a day.\")"
   ]
  },
  {
   "cell_type": "markdown",
   "id": "1f173220-d541-45fc-919b-874e1753a0fe",
   "metadata": {},
   "source": [
    "And that is basically all there is to it..."
   ]
  }
 ],
 "metadata": {
  "kernelspec": {
   "display_name": "Python 3 (ipykernel)",
   "language": "python",
   "name": "python3"
  },
  "language_info": {
   "codemirror_mode": {
    "name": "ipython",
    "version": 3
   },
   "file_extension": ".py",
   "mimetype": "text/x-python",
   "name": "python",
   "nbconvert_exporter": "python",
   "pygments_lexer": "ipython3",
   "version": "3.9.6"
  }
 },
 "nbformat": 4,
 "nbformat_minor": 5
}
